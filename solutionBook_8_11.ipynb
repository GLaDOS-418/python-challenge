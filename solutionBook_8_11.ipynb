{
 "cells": [
  {
   "cell_type": "markdown",
   "metadata": {},
   "source": [
    "# challenge 8 : working hard?\n",
    "\n",
    "**_url_** : http://www.pythonchallenge.com/pc/def/integrity.html\n",
    "\n",
    "**_solution_** : There is a link over the image which requires some authentication and clicking on it says:\n",
    "> http://www.pythonchallenge.com is requesting your username and password. The site says: “inflate”\n",
    "\n",
    "Now, inflate means to \"compress\" and in the source of the page uname and pwd are provided in binary(already compressed); So, we need to \"deflate\" that data:<br/>\n",
    ">  un: 'BZh91AY&SYA\\xaf\\x82\\r\\x00\\x00\\x01\\x01\\x80\\x02\\xc0\\x02\\x00 \\x00!\\x9ah3M\\x07<]\\xc9\\x14\\xe1BA\\x06\\xbe\\x084'<br/>\n",
    ">  pw: 'BZh91AY&SY\\x94$|\\x0e\\x00\\x00\\x00\\x81\\x00\\x03$ \\x00!\\x9ah3M\\x13<]\\xc9\\x14\\xe1BBP\\x91\\xf08'\n",
    "\n",
    "directly using str data gives error on using zlib functions. Apparantly, [str type is not 8-bit sequence in python](https://stackoverflow.com/a/9063019/4646394) : \n",
    "> TypeError: a bytes-like object is required, not 'str'\n",
    "\n",
    "After wasting a lot of time trying to figure out why inflating the data using [zlib module](https://docs.python.org/3/library/zlib.html) gives header errors I hit the challenge forum where somebody hinted: [_Are you sure it is zlib?_](https://groups.google.com/d/msg/comp.lang.python/TF_750PH3c4/j1HpPdbF8ZMJ)<br/>\n",
    "Then I checked that section [Data Compression and Archiving](https://docs.python.org/3/library/archiving.html) of python docs to see that it does indicate that python supports multiple compression algorithms including lzma, zlib, bz2...\n",
    "\n",
    "At this point I created a binary file and dumped the username bin data into the file and used linux **file** command to find the info about it:\n",
    "\n",
    ">  $ **file** datafile<br/>\n",
    ">  _datafile: bzip2 compressed data, block size = 900k_\n",
    "\n",
    "So, [bzip](https://docs.python.org/3/library/bz2.html) compression algo is of interest here. Decompress, enter the value in the fields and go to the next level."
   ]
  },
  {
   "cell_type": "code",
   "execution_count": 35,
   "metadata": {
    "collapsed": true
   },
   "outputs": [],
   "source": [
    "import bz2"
   ]
  },
  {
   "cell_type": "code",
   "execution_count": 40,
   "metadata": {},
   "outputs": [
    {
     "name": "stdout",
     "output_type": "stream",
     "text": [
      "b'huge' b'file'\n"
     ]
    }
   ],
   "source": [
    "un = b'BZh91AY&SYA\\xaf\\x82\\r\\x00\\x00\\x01\\x01\\x80\\x02\\xc0\\x02\\x00 \\x00!\\x9ah3M\\x07<]\\xc9\\x14\\xe1BA\\x06\\xbe\\x084'\n",
    "pw = b'BZh91AY&SY\\x94$|\\x0e\\x00\\x00\\x00\\x81\\x00\\x03$ \\x00!\\x9ah3M\\x13<]\\xc9\\x14\\xe1BBP\\x91\\xf08'\n",
    "\n",
    "with open('datafile', 'wb') as f:\n",
    "    f.write(un)\n",
    "\n",
    "print(bz2.decompress(un), bz2.decompress(pw))"
   ]
  },
  {
   "cell_type": "markdown",
   "metadata": {},
   "source": [
    "# challenge 9 : connect the dots\n",
    "\n",
    "**_url_** : http://www.pythonchallenge.com/pc/return/good.html<br/>\n",
    "**_solution_** : there are two lists of numbers _first_ and _second_ given in the source of the page. Apprantly these list of numbers are sequences of pixels to draw. Hence, connect the dots. I used **_pillow_** for the job.<br/>\n",
    "You can figure out the word just from using the _first_ sequence. But, just for the sake of using both sequences, I used line for the _first_ and polygon for the _second_ sequence.<br/>\n",
    "On connecting the dots, the resulting image appears to be of a cow so, I changed the url to [_cow.html_](http://www.pythonchallenge.com/pc/return/cow.html) which says:\n",
    "> _Hmm. It's a male._<br/>\n",
    "\n",
    "changed the url again to bull.html to get to the next level.<br/>\n",
    "**PS** - weirdest level thus far."
   ]
  },
  {
   "cell_type": "code",
   "execution_count": 103,
   "metadata": {
    "collapsed": true
   },
   "outputs": [],
   "source": [
    "from PIL import Image, ImageDraw"
   ]
  },
  {
   "cell_type": "code",
   "execution_count": 104,
   "metadata": {},
   "outputs": [
    {
     "name": "stdout",
     "output_type": "stream",
     "text": [
      "JPEG RGB (640, 487)\n"
     ]
    }
   ],
   "source": [
    "img = Image.open('good.jpg')\n",
    "print( img.format, img.mode, img.size)"
   ]
  },
  {
   "cell_type": "code",
   "execution_count": 105,
   "metadata": {},
   "outputs": [],
   "source": [
    "first = [146,399,163,403,170,393,169,391,166,386,170,381,170,371,170,355,169,346,167,335,170,329,170,320,170,\n",
    "310,171,301,173,290,178,289,182,287,188,286,190,286,192,291,194,296,195,305,194,307,191,312,190,316,\n",
    "190,321,192,331,193,338,196,341,197,346,199,352,198,360,197,366,197,373,196,380,197,383,196,387,192,\n",
    "389,191,392,190,396,189,400,194,401,201,402,208,403,213,402,216,401,219,397,219,393,216,390,215,385,\n",
    "215,379,213,373,213,365,212,360,210,353,210,347,212,338,213,329,214,319,215,311,215,306,216,296,218,\n",
    "290,221,283,225,282,233,284,238,287,243,290,250,291,255,294,261,293,265,291,271,291,273,289,278,287,\n",
    "279,285,281,280,284,278,284,276,287,277,289,283,291,286,294,291,296,295,299,300,301,304,304,320,305,\n",
    "327,306,332,307,341,306,349,303,354,301,364,301,371,297,375,292,384,291,386,302,393,324,391,333,387,\n",
    "328,375,329,367,329,353,330,341,331,328,336,319,338,310,341,304,341,285,341,278,343,269,344,262,346,\n",
    "259,346,251,349,259,349,264,349,273,349,280,349,288,349,295,349,298,354,293,356,286,354,279,352,268,\n",
    "352,257,351,249,350,234,351,211,352,197,354,185,353,171,351,154,348,147,342,137,339,132,330,122,327,\n",
    "120,314,116,304,117,293,118,284,118,281,122,275,128,265,129,257,131,244,133,239,134,228,136,221,137,\n",
    "214,138,209,135,201,132,192,130,184,131,175,129,170,131,159,134,157,134,160,130,170,125,176,114,176,\n",
    "102,173,103,172,108,171,111,163,115,156,116,149,117,142,116,136,115,129,115,124,115,120,115,115,117,\n",
    "113,120,109,122,102,122,100,121,95,121,89,115,87,110,82,109,84,118,89,123,93,129,100,130,108,132,110,\n",
    "133,110,136,107,138,105,140,95,138,86,141,79,149,77,155,81,162,90,165,97,167,99,171,109,171,107,161,\n",
    "111,156,113,170,115,185,118,208,117,223,121,239,128,251,133,259,136,266,139,276,143,290,148,310,151,\n",
    "332,155,348,156,353,153,366,149,379,147,394,146,399]\n",
    "\n",
    "second = [156,141,165,135,169,131,176,130,187,134,191,140,191,146,186,150,179,155,175,157,168,157,163,157,159,\n",
    "157,158,164,159,175,159,181,157,191,154,197,153,205,153,210,152,212,147,215,146,218,143,220,132,220,\n",
    "125,217,119,209,116,196,115,185,114,172,114,167,112,161,109,165,107,170,99,171,97,167,89,164,81,162,\n",
    "77,155,81,148,87,140,96,138,105,141,110,136,111,126,113,129,118,117,128,114,137,115,146,114,155,115,\n",
    "158,121,157,128,156,134,157,136,156,136]\n",
    "\n",
    "new_img = Image.new(img.mode , img.size, (255,255,255))\n",
    "d = ImageDraw.Draw(new_img)\n",
    "\n",
    "#d.polygon(first, fill=(0,0,0))\n",
    "d.polygon(second, fill=(0,0,0))\n",
    "d.line(first, fill=(0,0,0))\n",
    "new_img.show()"
   ]
  },
  {
   "cell_type": "markdown",
   "metadata": {},
   "source": [
    "# challenge 10 : what are you looking at?\n",
    "\n",
    "**_url_** : http://www.pythonchallenge.com/pc/return/bull.html<br/>\n",
    "**_solution_** : there is a txt file link in the source... [sequence.txt](http://www.pythonchallenge.com/pc/return/sequence.txt):\n",
    ">_a = [1, 11, 21, 1211, 111221, _\n",
    "\n",
    "and the page asks:\n",
    ">len(a[30])=?\n",
    "\n",
    "Did a little bit of cheating here, shouldn't 've done that, wold've had been fun figuring out the sequence. Looked up on [The Online Encyclopedia of Integer Sequences](https://oeis.org/search?q=1%2C+11%2C+21%2C+1211%2C+111221&language=english&go=Search) and found that it is in fact [The Look and Say sequence](https://oeis.org/A005150) - number followed by its frequency."
   ]
  },
  {
   "cell_type": "code",
   "execution_count": 118,
   "metadata": {},
   "outputs": [
    {
     "name": "stdout",
     "output_type": "stream",
     "text": [
      "5808\n"
     ]
    }
   ],
   "source": [
    "def keepLooking(n, a):\n",
    "    i = 0\n",
    "    temp = ''\n",
    "    while i < len(n):\n",
    "        cur = n[i]\n",
    "        cnt = 1\n",
    "        i+=1\n",
    "        while i < len(n) and n[i] == n[i-1]:\n",
    "            cnt+=1\n",
    "            i+=1\n",
    "            pass\n",
    "        temp += str(cnt)+cur\n",
    "        pass\n",
    "    if a == 0:\n",
    "        return n\n",
    "    else:\n",
    "        return keepLooking(temp, a-1)\n",
    "    pass\n",
    "\n",
    "print(len(keepLooking('1', 30)))"
   ]
  },
  {
   "cell_type": "markdown",
   "metadata": {},
   "source": [
    "# challenge 11 : odd even\n",
    "\n",
    "**_url_** : http://www.pythonchallenge.com/pc/return/5808.html\n",
    "**_solution_** : only hint there is the title which says:<br/>\n",
    "> odd even\n",
    "\n",
    "So, I created two images, one with odd pixels and one with even since every alternate pixels(like alternating squares in chessboard) were darkened in the image.<br/>\n",
    "On viewing both of them, you can identify a familiar word in the even image which gives link to the next challenge:\n",
    "> **_evil_**"
   ]
  },
  {
   "cell_type": "code",
   "execution_count": 157,
   "metadata": {
    "collapsed": true
   },
   "outputs": [],
   "source": [
    "from PIL import Image, ImageDraw"
   ]
  },
  {
   "cell_type": "code",
   "execution_count": 158,
   "metadata": {},
   "outputs": [
    {
     "name": "stdout",
     "output_type": "stream",
     "text": [
      "JPEG RGB (640, 480)\n"
     ]
    }
   ],
   "source": [
    "im = Image.open('cave.jpg')\n",
    "#im.show()\n",
    "print(im.format, im.mode, im.size)"
   ]
  },
  {
   "cell_type": "code",
   "execution_count": 159,
   "metadata": {},
   "outputs": [],
   "source": [
    "oddI = Image.new(im.mode, tuple([i//2 for i in im.size]), (255,255,255))\n",
    "evenI = Image.new(im.mode, tuple([i//2 for i in im.size]), (255,255,255))\n",
    "\n",
    "for i in range(im.height):\n",
    "    for j in range(im.width):\n",
    "        r,g,b = im.getpixel((j,i))\n",
    "        if (i+j)&1:\n",
    "            oddI.putpixel((j//2,i//2), (r,g,b))\n",
    "        else :\n",
    "            evenI.putpixel((j//2,i//2), (r,g,b))\n",
    "            pass\n",
    "        pass\n",
    "    pass\n",
    "\n",
    "oddN = ImageDraw.Draw(oddI)\n",
    "evenN = ImageDraw.Draw(evenI)\n",
    "#oddI.show()\n",
    "evenI.show() #this image has the word 'evil' on top right corner\n"
   ]
  }
 ],
 "metadata": {
  "kernelspec": {
   "display_name": "Python 3",
   "language": "python",
   "name": "python3"
  },
  "language_info": {
   "codemirror_mode": {
    "name": "ipython",
    "version": 3
   },
   "file_extension": ".py",
   "mimetype": "text/x-python",
   "name": "python",
   "nbconvert_exporter": "python",
   "pygments_lexer": "ipython3",
   "version": "3.6.4"
  }
 },
 "nbformat": 4,
 "nbformat_minor": 2
}
